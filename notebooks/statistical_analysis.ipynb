{
 "cells": [
  {
   "cell_type": "code",
   "execution_count": 6,
   "metadata": {},
   "outputs": [],
   "source": [
    "# Statistical Analysis\n",
    "%matplotlib inline\n",
    "import matplotlib\n",
    "import pandas as pd\n",
    "import matplotlib.pyplot as plt\n",
    "import seaborn as sns\n",
    "import numpy as np\n",
    "import scipy.stats as stats\n",
    "import io\n",
    "import requests\n",
    "\n",
    "# Load data\n",
    "url=\"https://ndownloader.figshare.com/files/10185495\"\n",
    "s=requests.get(url).content\n",
    "df=pd.read_csv(io.StringIO(s.decode('utf-8')))"
   ]
  },
  {
   "cell_type": "markdown",
   "metadata": {},
   "source": [
    "# Statistical Analysis\n",
    "\n",
    "## Test for normal distribution\n",
    "\n",
    "In order to statistically confirm our hypothesis that the Triple Pattern type has an impact on the runtime, we first need to check whether the results are normally distributed.\n",
    "\n",
    "### Test 1: Normal Distribution\n",
    "\n",
    "We test whether the samples for each Triple Pattern type differ from a normal distribution.\n",
    "This function tests the null hypothesis that a sample comes from a normal distribution. It is based on D’Agostino and Pearson’s test that combines skew and kurtosis to produce an omnibus test of normality.\n",
    "\n",
    "Hypothesis:\n",
    "$H_0:$ The sample comes from a normal distribution."
   ]
  },
  {
   "cell_type": "code",
   "execution_count": 8,
   "metadata": {},
   "outputs": [
    {
     "name": "stdout",
     "output_type": "stream",
     "text": [
      "Test for normal distribution\n",
      "DBLP\n",
      "Category: <v,r,r>; p-Value: 0.0\n",
      "Category: <r,r,v>; p-Value: 0.0\n",
      "Category: <v,v,v>; p-Value: 0.0\n",
      "Category: <r,v,r>; p-Value: 0.0\n",
      "Category: <r,v,v>; p-Value: 0.0\n",
      "Category: <v,v,r>; p-Value: 0.0\n",
      "Category: <r,r,r>; p-Value: 0.0\n",
      "Category: <v,r,v>; p-Value: 0.0122441694903\n",
      "DBpedia\n",
      "Category: <v,r,r>; p-Value: 0.0\n",
      "Category: <r,r,v>; p-Value: 0.0\n",
      "Category: <v,v,v>; p-Value: 0.0\n",
      "Category: <r,v,r>; p-Value: 0.0\n",
      "Category: <r,v,v>; p-Value: 0.0\n",
      "Category: <v,v,r>; p-Value: 1.81344983214e-67\n",
      "Category: <r,r,r>; p-Value: 0.0\n",
      "Category: <v,r,v>; p-Value: 9.57677423836e-261\n",
      "GeoNames\n",
      "Category: <v,r,r>; p-Value: 0.0\n",
      "Category: <r,r,v>; p-Value: 0.0\n",
      "Category: <v,v,v>; p-Value: 0.0\n",
      "Category: <r,v,r>; p-Value: 0.0\n",
      "Category: <r,v,v>; p-Value: 0.0\n",
      "Category: <v,v,r>; p-Value: 0.0\n",
      "Category: <r,r,r>; p-Value: 0.0\n",
      "Category: <v,r,v>; p-Value: 0.0427895427169\n",
      "Wiktionary\n",
      "Category: <v,r,r>; p-Value: 0.0\n",
      "Category: <r,r,v>; p-Value: 0.0\n",
      "Category: <v,v,v>; p-Value: 0.0\n",
      "Category: <r,v,r>; p-Value: 0.0\n",
      "Category: <r,v,v>; p-Value: 0.0\n",
      "Category: <v,v,r>; p-Value: 0.0\n",
      "Category: <r,r,r>; p-Value: 0.0\n",
      "Category: <v,r,v>; p-Value: 3.92786617788e-18\n"
     ]
    }
   ],
   "source": [
    "study1 = df[df['study'] == 1]\n",
    "print(\"Test for normal distribution\")\n",
    "for source in study1['Source'].unique(): \n",
    "    print(source)\n",
    "    for category in study1['category'].unique():\n",
    "        a, p = stats.mstats.normaltest(study1[(study1['category'] == category) & (study1['Source'] == source)]['ms'])\n",
    "        print(\"Category: \" + str(category) +  \"; p-Value: \" + str(p))"
   ]
  },
  {
   "cell_type": "markdown",
   "metadata": {},
   "source": [
    "### Result\n",
    "For all Triple Pattern types, we can reject the null hypothesis at a significance level of $\\alpha = 0.05$. As a result, the samples do not come from a normal distribution. Conclusively, we apply a non-parametric test to examine the different pattern types."
   ]
  },
  {
   "cell_type": "code",
   "execution_count": null,
   "metadata": {
    "collapsed": true
   },
   "outputs": [],
   "source": []
  }
 ],
 "metadata": {
  "kernelspec": {
   "display_name": "Python 2",
   "language": "python",
   "name": "python2"
  },
  "language_info": {
   "codemirror_mode": {
    "name": "ipython",
    "version": 2
   },
   "file_extension": ".py",
   "mimetype": "text/x-python",
   "name": "python",
   "nbconvert_exporter": "python",
   "pygments_lexer": "ipython2",
   "version": "2.7.13"
  }
 },
 "nbformat": 4,
 "nbformat_minor": 2
}
