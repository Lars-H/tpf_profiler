{
 "cells": [
  {
   "cell_type": "code",
   "execution_count": 1,
   "metadata": {
    "collapsed": true
   },
   "outputs": [],
   "source": [
    "# Imports\n",
    "%matplotlib inline\n",
    "import matplotlib\n",
    "import pandas as pd\n",
    "import matplotlib.pyplot as plt\n",
    "import seaborn as sns\n",
    "import numpy as np\n",
    "import scipy.stats as stats\n",
    "import io\n",
    "import requests\n",
    "\n",
    "# Load data\n",
    "url=\"https://ndownloader.figshare.com/files/10185495\"\n",
    "s=requests.get(url).content\n",
    "df=pd.read_csv(io.StringIO(s.decode('utf-8')))"
   ]
  },
  {
   "cell_type": "markdown",
   "metadata": {},
   "source": [
    "# Statistical Analysis\n",
    "\n",
    "## Test for normal distribution\n",
    "\n",
    "In order to statistically confirm our hypothesis that the triple pattern type has an impact on the runtime, we first need to check whether the results are normally distributed.\n",
    "\n",
    "### Test: Normal Distribution\n",
    "\n",
    "We test whether the samples for each triple pattern type in both evironments for all knowledge graphs differ from a normal distribution.\n",
    "This function tests the null hypothesis that a sample comes from a normal distribution. It is based on D’Agostino and Pearson’s test that combines skew and kurtosis to produce an omnibus test of normality.\n",
    "\n",
    "Hypothesis:\n",
    "$H_0:$ The sample comes from a normal distribution."
   ]
  },
  {
   "cell_type": "code",
   "execution_count": 2,
   "metadata": {},
   "outputs": [
    {
     "name": "stdout",
     "output_type": "stream",
     "text": [
      "Test for normal distribution\n",
      "Environment: Controlled\n",
      "Source: DBLP\n",
      "Category: <v,r,r>; p-Value: 1.18476616736e-58\n",
      "Category: <r,r,v>; p-Value: 0.0\n",
      "Category: <v,v,v>; p-Value: 5.05781986828e-305\n",
      "Category: <r,v,r>; p-Value: 0.0\n",
      "Category: <r,v,v>; p-Value: 4.57033798575e-140\n",
      "Category: <v,v,r>; p-Value: 2.49535647547e-75\n",
      "Category: <r,r,r>; p-Value: 0.0\n",
      "Category: <v,r,v>; p-Value: 0.0724368024255\n",
      "Source: DBpedia\n",
      "Category: <v,r,r>; p-Value: 2.72262412116e-55\n",
      "Category: <r,r,v>; p-Value: 3.84173293512e-223\n",
      "Category: <v,v,v>; p-Value: 2.84196378922e-124\n"
     ]
    },
    {
     "name": "stderr",
     "output_type": "stream",
     "text": [
      "/home/mac/anaconda2/lib/python2.7/site-packages/scipy/stats/mstats_basic.py:2237: UserWarning: kurtosistest only valid for n>=20 ... continuing anyway, n=12\n",
      "  np.min(n))\n"
     ]
    },
    {
     "name": "stdout",
     "output_type": "stream",
     "text": [
      "Category: <r,v,r>; p-Value: 4.05240471342e-288\n",
      "Category: <r,v,v>; p-Value: 1.87259087176e-10\n",
      "Category: <v,v,r>; p-Value: 4.35381904155e-41\n",
      "Category: <r,r,r>; p-Value: 0.0\n",
      "Category: <v,r,v>; p-Value: 2.36508925397e-43\n",
      "Source: GeoNames\n",
      "Category: <v,r,r>; p-Value: 3.04749297303e-31\n",
      "Category: <r,r,v>; p-Value: 0.0\n",
      "Category: <v,v,v>; p-Value: 3.59398495489e-148\n",
      "Category: <r,v,r>; p-Value: 1.80800959123e-297\n",
      "Category: <r,v,v>; p-Value: 2.74780234928e-280\n",
      "Category: <v,v,r>; p-Value: 1.18087461651e-239\n",
      "Category: <r,r,r>; p-Value: 2.24765255975e-265\n"
     ]
    },
    {
     "name": "stderr",
     "output_type": "stream",
     "text": [
      "/home/mac/anaconda2/lib/python2.7/site-packages/scipy/stats/mstats_basic.py:2237: UserWarning: kurtosistest only valid for n>=20 ... continuing anyway, n=14\n",
      "  np.min(n))\n"
     ]
    },
    {
     "name": "stdout",
     "output_type": "stream",
     "text": [
      "Category: <v,r,v>; p-Value: 1.17154728246e-05\n",
      "Source: Wiktionary\n",
      "Category: <v,r,r>; p-Value: 8.98780694032e-144\n",
      "Category: <r,r,v>; p-Value: 3.0925437434e-303\n",
      "Category: <v,v,v>; p-Value: 6.27668528553e-217\n",
      "Category: <r,v,r>; p-Value: 8.7755759042e-296\n",
      "Category: <r,v,v>; p-Value: 3.18174727903e-180\n",
      "Category: <v,v,r>; p-Value: 8.72823422871e-136\n",
      "Category: <r,r,r>; p-Value: 1.32378417168e-227\n",
      "Category: <v,r,v>; p-Value: 0.715014510996\n",
      "Environment: Real-World\n",
      "Source: DBLP\n",
      "Category: <v,r,r>; p-Value: 0.0\n",
      "Category: <r,r,v>; p-Value: 0.0\n",
      "Category: <v,v,v>; p-Value: 0.0\n"
     ]
    },
    {
     "name": "stderr",
     "output_type": "stream",
     "text": [
      "/home/mac/anaconda2/lib/python2.7/site-packages/scipy/stats/mstats_basic.py:2237: UserWarning: kurtosistest only valid for n>=20 ... continuing anyway, n=13\n",
      "  np.min(n))\n"
     ]
    },
    {
     "name": "stdout",
     "output_type": "stream",
     "text": [
      "Category: <r,v,r>; p-Value: 0.0\n",
      "Category: <r,v,v>; p-Value: 0.0\n",
      "Category: <v,v,r>; p-Value: 0.0\n",
      "Category: <r,r,r>; p-Value: 0.0\n",
      "Category: <v,r,v>; p-Value: 0.140616799544\n",
      "Source: DBpedia\n",
      "Category: <v,r,r>; p-Value: 0.0\n",
      "Category: <r,r,v>; p-Value: 0.0\n",
      "Category: <v,v,v>; p-Value: 0.0\n",
      "Category: <r,v,r>; p-Value: 0.0\n",
      "Category: <r,v,v>; p-Value: 0.0\n",
      "Category: <v,v,r>; p-Value: 1.23632691433e-271\n",
      "Category: <r,r,r>; p-Value: 0.0\n",
      "Category: <v,r,v>; p-Value: 4.25642363424e-28\n",
      "Source: GeoNames\n",
      "Category: <v,r,r>; p-Value: 3.90942889033e-293\n",
      "Category: <r,r,v>; p-Value: 0.0\n",
      "Category: <v,v,v>; p-Value: 0.0\n",
      "Category: <r,v,r>; p-Value: 0.0\n",
      "Category: <r,v,v>; p-Value: 0.0\n",
      "Category: <v,v,r>; p-Value: 0.0\n",
      "Category: <r,r,r>; p-Value: 0.0\n",
      "Category: <v,r,v>; p-Value: 0.101345088483\n",
      "Source: Wiktionary\n",
      "Category: <v,r,r>; p-Value: 5.34935998266e-258\n",
      "Category: <r,r,v>; p-Value: 0.0\n",
      "Category: <v,v,v>; p-Value: 0.0\n",
      "Category: <r,v,r>; p-Value: 0.0\n",
      "Category: <r,v,v>; p-Value: 0.0\n",
      "Category: <v,v,r>; p-Value: 9.59641638794e-239\n",
      "Category: <r,r,r>; p-Value: 0.0\n",
      "Category: <v,r,v>; p-Value: 0.520344425311\n"
     ]
    }
   ],
   "source": [
    "# Select data for Study 1 only with cold cache\n",
    "study1 = df[(df['study'] == 1) & (df['Cache'] == False)]\n",
    "print(\"Test for normal distribution\")\n",
    "for env in study1['Environment'].unique():\n",
    "    print(\"Environment: {0}\".format(env))\n",
    "    for source in study1['Source'].unique(): \n",
    "        print(\"Source: {0}\".format(source))\n",
    "        for category in study1['category'].unique():\n",
    "            a, p = stats.mstats.normaltest(study1[(study1['category'] == category) \n",
    "                                                    & (study1['Source'] == source)\n",
    "                                                    & (study1['Environment'] == env)]['ms'])\n",
    "            print(\"Category: \" + str(category) +  \"; p-Value: \" + str(p))"
   ]
  },
  {
   "cell_type": "markdown",
   "metadata": {},
   "source": [
    "### Result\n",
    "For all triple pattern types, we can reject the null hypothesis at a significance level of $\\alpha = 0.05$ for all knowledge graphs in the real-world environment. For the controlled environment, we cannot reject the null hypothesis for the pattern type $\\langle v,r,v \\rangle$ for DBLP, GeoNames and Wiktionary in the real-world environment and for Wiktionary in the controlled environment. However, the due to the rather low $\\alpha$ values and with 60 / 64 rejected hypothesis, we assume the samples do not come from a normal distribution. Conclusively, we apply a non-parametric test to examine the different pattern types."
   ]
  },
  {
   "cell_type": "markdown",
   "metadata": {},
   "source": [
    "## Triple Pattern Type.\n",
    "\n",
    "To test if the samples for the different pattern types significantly differ, we apply the Kruskal-Wallis test.\n",
    "The test can be used to study, whether a group of samples originates from the same distrbution.\n",
    "\n",
    "### Test: Kruskal Wallis Test\n",
    "\n",
    "We apply the Kruskal Wallis test to test whether there is a significant difference between the group. The response times for a specific Triple Pattern type represent a group.\n",
    "\n",
    "Hypothesis:\n",
    "$H_0$: There is no difference between the groups"
   ]
  },
  {
   "cell_type": "markdown",
   "metadata": {},
   "source": [
    "### Response time"
   ]
  },
  {
   "cell_type": "code",
   "execution_count": 3,
   "metadata": {},
   "outputs": [
    {
     "name": "stdout",
     "output_type": "stream",
     "text": [
      "Environment: Controlled\n",
      "Knowledge graph: DBLP\n",
      "Kruskal Wallis Test: p-Value = 0.0\n",
      "Knowledge graph: DBpedia\n",
      "Kruskal Wallis Test: p-Value = 0.0\n",
      "Knowledge graph: GeoNames\n",
      "Kruskal Wallis Test: p-Value = 0.0\n",
      "Knowledge graph: Wiktionary\n",
      "Kruskal Wallis Test: p-Value = 0.0\n",
      "Environment: Real-World\n",
      "Knowledge graph: DBLP\n",
      "Kruskal Wallis Test: p-Value = 0.0\n",
      "Knowledge graph: DBpedia\n",
      "Kruskal Wallis Test: p-Value = 0.0\n",
      "Knowledge graph: GeoNames\n",
      "Kruskal Wallis Test: p-Value = 0.0\n",
      "Knowledge graph: Wiktionary\n",
      "Kruskal Wallis Test: p-Value = 0.0\n"
     ]
    }
   ],
   "source": [
    "# Split the data into the categories\n",
    "for env in study1['Environment'].unique():\n",
    "    print(\"Environment: {0}\".format(env))\n",
    "    for source in study1['Source'].unique(): \n",
    "        print(\"Knowledge graph: {0}\".format(source))\n",
    "        col = 'ms'\n",
    "        cats = study1['category'].unique()\n",
    "        t_df_1 = study1[(study1['category'] == cats[0]) & (study1['Source'] == source) & (study1['Environment'] == env)]\n",
    "        t_df_2 = study1[(study1['category'] == cats[1]) & (study1['Source'] == source) & (study1['Environment'] == env)]\n",
    "        t_df_3 = study1[(study1['category'] == cats[2]) & (study1['Source'] == source) & (study1['Environment'] == env)]\n",
    "        t_df_4 = study1[(study1['category'] == cats[3]) & (study1['Source'] == source) & (study1['Environment'] == env)]\n",
    "        t_df_5 = study1[(study1['category'] == cats[4]) & (study1['Source'] == source) & (study1['Environment'] == env)]\n",
    "        t_df_6 = study1[(study1['category'] == cats[5]) & (study1['Source'] == source) & (study1['Environment'] == env)]\n",
    "        t_df_7 = study1[(study1['category'] == cats[6]) & (study1['Source'] == source) & (study1['Environment'] == env)]\n",
    "        t_df_8 = study1[(study1['category'] == cats[7]) & (study1['Source'] == source) & (study1['Environment'] == env)]\n",
    "        stat, p = stats.kruskal(t_df_1[col],t_df_2[col], t_df_3[col], t_df_4[col], t_df_5[col], t_df_6[col], t_df_7[col], t_df_8[col])\n",
    "        print(\"Kruskal Wallis Test: p-Value = \" + str(p))"
   ]
  },
  {
   "cell_type": "markdown",
   "metadata": {
    "collapsed": true
   },
   "source": [
    "### Relative response time"
   ]
  },
  {
   "cell_type": "code",
   "execution_count": 4,
   "metadata": {},
   "outputs": [
    {
     "name": "stdout",
     "output_type": "stream",
     "text": [
      "Environment: Controlled\n",
      "Knowledge graph: DBLP\n",
      "Kruskal Wallis Test: p-Value = 0.0\n",
      "Knowledge graph: DBpedia\n",
      "Kruskal Wallis Test: p-Value = 0.0\n",
      "Knowledge graph: GeoNames\n",
      "Kruskal Wallis Test: p-Value = 0.0\n",
      "Knowledge graph: Wiktionary\n",
      "Kruskal Wallis Test: p-Value = 0.0\n",
      "Environment: Real-World\n",
      "Knowledge graph: DBLP\n",
      "Kruskal Wallis Test: p-Value = 0.0\n",
      "Knowledge graph: DBpedia\n",
      "Kruskal Wallis Test: p-Value = 0.0\n",
      "Knowledge graph: GeoNames\n",
      "Kruskal Wallis Test: p-Value = 0.0\n",
      "Knowledge graph: Wiktionary\n",
      "Kruskal Wallis Test: p-Value = 0.0\n"
     ]
    }
   ],
   "source": [
    "# Split the data into the categories\n",
    "for env in study1['Environment'].unique():\n",
    "    print(\"Environment: {0}\".format(env))\n",
    "    for source in study1['Source'].unique(): \n",
    "        print(\"Knowledge graph: {0}\".format(source))\n",
    "        col = 'ms_per_res'\n",
    "        cats = study1['category'].unique()\n",
    "        t_df_1 = study1[(study1['category'] == cats[0]) & (study1['Source'] == source) & (study1['Environment'] == env)]\n",
    "        t_df_2 = study1[(study1['category'] == cats[1]) & (study1['Source'] == source) & (study1['Environment'] == env)]\n",
    "        t_df_3 = study1[(study1['category'] == cats[2]) & (study1['Source'] == source) & (study1['Environment'] == env)]\n",
    "        t_df_4 = study1[(study1['category'] == cats[3]) & (study1['Source'] == source) & (study1['Environment'] == env)]\n",
    "        t_df_5 = study1[(study1['category'] == cats[4]) & (study1['Source'] == source) & (study1['Environment'] == env)]\n",
    "        t_df_6 = study1[(study1['category'] == cats[5]) & (study1['Source'] == source) & (study1['Environment'] == env)]\n",
    "        t_df_7 = study1[(study1['category'] == cats[6]) & (study1['Source'] == source) & (study1['Environment'] == env)]\n",
    "        t_df_8 = study1[(study1['category'] == cats[7]) & (study1['Source'] == source) & (study1['Environment'] == env)]\n",
    "        stat, p = stats.kruskal(t_df_1[col],t_df_2[col], t_df_3[col], t_df_4[col], t_df_5[col], t_df_6[col], t_df_7[col], t_df_8[col])\n",
    "        print(\"Kruskal Wallis Test: p-Value = \" + str(p))"
   ]
  },
  {
   "cell_type": "markdown",
   "metadata": {},
   "source": [
    "### Result \n",
    "\n",
    "The Kruskal Wallis test yields a p-Value of 0.0 which means that the Null Hypothesis may be rejected at a significance level of $\\alpha = 0.05$ and thus there is a significant difference between the groups. The next step is a post-hoc analysis to find which pair of types differ from each other."
   ]
  },
  {
   "cell_type": "markdown",
   "metadata": {},
   "source": [
    "## Answer Cardinality.\n",
    "\n",
    "Next, we want to study the relation between the answer cardinality and the response time. For this purpose, we conduct a correlation analysis."
   ]
  },
  {
   "cell_type": "code",
   "execution_count": 5,
   "metadata": {},
   "outputs": [
    {
     "data": {
      "text/html": [
       "<div>\n",
       "<style>\n",
       "    .dataframe thead tr:only-child th {\n",
       "        text-align: right;\n",
       "    }\n",
       "\n",
       "    .dataframe thead th {\n",
       "        text-align: left;\n",
       "    }\n",
       "\n",
       "    .dataframe tbody tr th {\n",
       "        vertical-align: top;\n",
       "    }\n",
       "</style>\n",
       "<table border=\"1\" class=\"dataframe\">\n",
       "  <thead>\n",
       "    <tr style=\"text-align: right;\">\n",
       "      <th></th>\n",
       "      <th>0</th>\n",
       "      <th>4</th>\n",
       "      <th>1</th>\n",
       "      <th>5</th>\n",
       "      <th>2</th>\n",
       "      <th>6</th>\n",
       "      <th>3</th>\n",
       "      <th>7</th>\n",
       "    </tr>\n",
       "  </thead>\n",
       "  <tbody>\n",
       "    <tr>\n",
       "      <th>Environment</th>\n",
       "      <td>Controlled</td>\n",
       "      <td>Real-World</td>\n",
       "      <td>Controlled</td>\n",
       "      <td>Real-World</td>\n",
       "      <td>Controlled</td>\n",
       "      <td>Real-World</td>\n",
       "      <td>Controlled</td>\n",
       "      <td>Real-World</td>\n",
       "    </tr>\n",
       "    <tr>\n",
       "      <th>KG</th>\n",
       "      <td>DBLP</td>\n",
       "      <td>DBLP</td>\n",
       "      <td>DBpedia</td>\n",
       "      <td>DBpedia</td>\n",
       "      <td>GeoNames</td>\n",
       "      <td>GeoNames</td>\n",
       "      <td>Wiktionary</td>\n",
       "      <td>Wiktionary</td>\n",
       "    </tr>\n",
       "    <tr>\n",
       "      <th>r_1</th>\n",
       "      <td>0.462653</td>\n",
       "      <td>0.0253597</td>\n",
       "      <td>0.57095</td>\n",
       "      <td>0.0488652</td>\n",
       "      <td>0.0611747</td>\n",
       "      <td>-0.00134887</td>\n",
       "      <td>0.317332</td>\n",
       "      <td>0.0018773</td>\n",
       "    </tr>\n",
       "    <tr>\n",
       "      <th>r_2</th>\n",
       "      <td>-0.0556256</td>\n",
       "      <td>-0.0103808</td>\n",
       "      <td>0.0361779</td>\n",
       "      <td>0.0255433</td>\n",
       "      <td>-0.0551964</td>\n",
       "      <td>-0.0163546</td>\n",
       "      <td>-0.0328858</td>\n",
       "      <td>-0.0556055</td>\n",
       "    </tr>\n",
       "    <tr>\n",
       "      <th>r_all</th>\n",
       "      <td>0.113472</td>\n",
       "      <td>-0.000368441</td>\n",
       "      <td>0.0919915</td>\n",
       "      <td>0.0071217</td>\n",
       "      <td>0.101094</td>\n",
       "      <td>-0.00129091</td>\n",
       "      <td>0.178342</td>\n",
       "      <td>-0.00168576</td>\n",
       "    </tr>\n",
       "  </tbody>\n",
       "</table>\n",
       "</div>"
      ],
      "text/plain": [
       "                      0            4           1           5           2  \\\n",
       "Environment  Controlled   Real-World  Controlled  Real-World  Controlled   \n",
       "KG                 DBLP         DBLP     DBpedia     DBpedia    GeoNames   \n",
       "r_1            0.462653    0.0253597     0.57095   0.0488652   0.0611747   \n",
       "r_2          -0.0556256   -0.0103808   0.0361779   0.0255433  -0.0551964   \n",
       "r_all          0.113472 -0.000368441   0.0919915   0.0071217    0.101094   \n",
       "\n",
       "                      6           3           7  \n",
       "Environment  Real-World  Controlled  Real-World  \n",
       "KG             GeoNames  Wiktionary  Wiktionary  \n",
       "r_1         -0.00134887    0.317332   0.0018773  \n",
       "r_2          -0.0163546  -0.0328858  -0.0556055  \n",
       "r_all       -0.00129091    0.178342 -0.00168576  "
      ]
     },
     "execution_count": 5,
     "metadata": {},
     "output_type": "execute_result"
    }
   ],
   "source": [
    "# Gather data\n",
    "rho = []\n",
    "for env in study1['Environment'].unique():\n",
    "    for server in list(study1['Source'].unique()):\n",
    "        a = study1[(study1['Source'] == server) \n",
    "                   & (study1['category'] != \"<v,v,v>\")\n",
    "                   & (study1['Environment'] == env)]\n",
    "        one_page = a[a['one_page'] == True] \n",
    "        more_pages = a[a['one_page'] == False] \n",
    "        rho_1 = stats.pearsonr(one_page['total_items'], one_page['ms'])[0]\n",
    "        rho_2 = stats.pearsonr(more_pages['total_items'], more_pages['ms'])[0]\n",
    "        rho_all = stats.pearsonr(a['total_items'], a['ms'])[0]\n",
    "        rho.append({\"KG\": server, \"Environment\" : env, \"r_1\" : rho_1, \"r_2\" : rho_2, \"r_all\" : rho_all })\n",
    "# Create Table\n",
    "cdf = pd.DataFrame(rho)\n",
    "cdf.sort_values(by=['KG'], inplace=True)\n",
    "cdf = cdf.transpose()\n",
    "cdf"
   ]
  },
  {
   "cell_type": "markdown",
   "metadata": {},
   "source": [
    "## Caching.\n",
    "\n",
    "Again, we conduct a Kruskal-Wallis test to check for the statistical significance of our results. This time we compare for each environment and each source whether therer is a difference between the uncached and cached results. \n",
    "\n",
    "### Test: Kruskal Wallis Test"
   ]
  },
  {
   "cell_type": "code",
   "execution_count": 6,
   "metadata": {},
   "outputs": [
    {
     "name": "stdout",
     "output_type": "stream",
     "text": [
      "Environemt: Controlled\n"
     ]
    },
    {
     "name": "stderr",
     "output_type": "stream",
     "text": [
      "/home/mac/anaconda2/lib/python2.7/site-packages/scipy/stats/stats.py:253: RuntimeWarning: The input array could not be properly checked for nan values. nan values will be ignored.\n",
      "  \"values. nan values will be ignored.\", RuntimeWarning)\n"
     ]
    },
    {
     "name": "stdout",
     "output_type": "stream",
     "text": [
      "Knowledge Graph: DBLP\n",
      "Kruskal Wallis Test: p-Value = 0.0\n",
      "Knowledge Graph: DBpedia\n",
      "Kruskal Wallis Test: p-Value = 0.0\n",
      "Knowledge Graph: GeoNames\n",
      "Kruskal Wallis Test: p-Value = 0.0\n",
      "Knowledge Graph: Wiktionary\n",
      "Kruskal Wallis Test: p-Value = 0.0\n",
      "Environemt: Real-World\n",
      "Knowledge Graph: DBLP\n",
      "Kruskal Wallis Test: p-Value = 0.0\n",
      "Knowledge Graph: DBpedia\n",
      "Kruskal Wallis Test: p-Value = 0.0\n",
      "Knowledge Graph: GeoNames\n",
      "Kruskal Wallis Test: p-Value = 0.0\n",
      "Knowledge Graph: Wiktionary\n",
      "Kruskal Wallis Test: p-Value = 0.0\n"
     ]
    }
   ],
   "source": [
    "# Select the data including cold and warm cache\n",
    "study1_1 = df[(df['study'] == 1)]\n",
    "\n",
    "for env in study1_1['Environment'].unique():\n",
    "    print(\"Environemt: {0}\".format(env))\n",
    "    for source in study1_1['Source'].unique():\n",
    "        uncached = study1_1[(study1_1['Environment'] == env) \n",
    "                            & (study1_1['Source'] == source) \n",
    "                            & (study1_1['Cache'] == False)]\n",
    "        cached = study1_1[(study1_1['Environment'] == env) \n",
    "                            & (study1_1['Source'] == source) \n",
    "                            & (study1_1['Cache'] == True)]\n",
    "        stat, p = stats.kruskal(uncached, cached)\n",
    "        print(\"Knowledge Graph: {0}\".format(source))\n",
    "        print(\"Kruskal Wallis Test: p-Value = \" + str(p))"
   ]
  },
  {
   "cell_type": "markdown",
   "metadata": {},
   "source": [
    "### Result\n",
    "\n",
    "We find that the difference between the uncached and cached results is statistically significant at a level of $\\alpha = 0.05$ for all knowledge graphs in both environments."
   ]
  },
  {
   "cell_type": "markdown",
   "metadata": {},
   "source": [
    "## KG / TPF Instance Relation."
   ]
  },
  {
   "cell_type": "markdown",
   "metadata": {
    "collapsed": true
   },
   "source": [
    "We conduct a Kruskal-Wallis test to check for the statistical significance of our results. This time we compare for each environment and each source whether therer is a difference between the uncached and cached results. \n",
    "\n",
    "### Test: Kruskal Wallis Test"
   ]
  },
  {
   "cell_type": "code",
   "execution_count": 7,
   "metadata": {},
   "outputs": [
    {
     "name": "stdout",
     "output_type": "stream",
     "text": [
      "Knowledge Graph: DBLP\n",
      "Kruskal Wallis Test: p-Value = 0.0\n",
      "Knowledge Graph: DBpedia\n",
      "Kruskal Wallis Test: p-Value = 0.0\n",
      "Knowledge Graph: GeoNames\n",
      "Kruskal Wallis Test: p-Value = 0.0\n",
      "Knowledge Graph: Wiktionary\n",
      "Kruskal Wallis Test: p-Value = 0.0\n"
     ]
    }
   ],
   "source": [
    "# Select the data\n",
    "study4 = df[(df['study'] == 4) & (df['Environment'] == \"Controlled\") & (df['Cache'] == False)]\n",
    "\n",
    "for source in study4['Source'].unique():\n",
    "    single_kg = study4[(study4['Source'] == source) & (study4['KGs'] == \"Single KG\")]\n",
    "    multiple_kg = study4[(study4['Source'] == source) & (study4['KGs'] == \"Multiple KG\")]\n",
    "    stat, p = stats.kruskal(single_kg, multiple_kg)\n",
    "    print(\"Knowledge Graph: {0}\".format(source))\n",
    "    print(\"Kruskal Wallis Test: p-Value = \" + str(p))"
   ]
  },
  {
   "cell_type": "markdown",
   "metadata": {},
   "source": [
    "### Result\n",
    "\n",
    "We find that the response time is significantly different at a level of $\\alpha = 0.05$ when comparing the results for a single KG loaded on the TPF server to the results of multiple KGs loaded on the TPF server."
   ]
  },
  {
   "cell_type": "code",
   "execution_count": null,
   "metadata": {
    "collapsed": true
   },
   "outputs": [],
   "source": []
  }
 ],
 "metadata": {
  "kernelspec": {
   "display_name": "Python 2",
   "language": "python",
   "name": "python2"
  },
  "language_info": {
   "codemirror_mode": {
    "name": "ipython",
    "version": 2
   },
   "file_extension": ".py",
   "mimetype": "text/x-python",
   "name": "python",
   "nbconvert_exporter": "python",
   "pygments_lexer": "ipython2",
   "version": "2.7.13"
  }
 },
 "nbformat": 4,
 "nbformat_minor": 2
}
